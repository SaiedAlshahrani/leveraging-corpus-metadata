{
 "cells": [
  {
   "cell_type": "markdown",
   "id": "72c448fe-cf5c-448f-8d52-850d7f357ad8",
   "metadata": {
    "editable": true,
    "slideshow": {
     "slide_type": ""
    },
    "tags": []
   },
   "source": [
    "# Template Translation Detection of Egyptian Articles"
   ]
  },
  {
   "cell_type": "markdown",
   "id": "a4e48066-b69c-4d54-a52a-5871fb8aa20c",
   "metadata": {},
   "source": [
    "## Unsupervised Clustering Algorithms:"
   ]
  },
  {
   "cell_type": "markdown",
   "id": "7010d012-0524-46f7-986b-ba67ce427267",
   "metadata": {},
   "source": [
    "### Hierarchical:"
   ]
  },
  {
   "cell_type": "code",
   "execution_count": 1,
   "id": "f47f4314-6d8d-4b19-8c65-395bfb884b0a",
   "metadata": {
    "editable": true,
    "slideshow": {
     "slide_type": ""
    },
    "tags": []
   },
   "outputs": [
    {
     "data": {
      "text/html": [
       "<div>\n",
       "<style scoped>\n",
       "    .dataframe tbody tr th:only-of-type {\n",
       "        vertical-align: middle;\n",
       "    }\n",
       "\n",
       "    .dataframe tbody tr th {\n",
       "        vertical-align: top;\n",
       "    }\n",
       "\n",
       "    .dataframe thead th {\n",
       "        text-align: right;\n",
       "    }\n",
       "</style>\n",
       "<table border=\"1\" class=\"dataframe\">\n",
       "  <thead>\n",
       "    <tr style=\"text-align: right;\">\n",
       "      <th></th>\n",
       "      <th>page_title</th>\n",
       "      <th>total_edits</th>\n",
       "      <th>total_editors</th>\n",
       "      <th>total_bytes</th>\n",
       "      <th>total_chars</th>\n",
       "      <th>total_words</th>\n",
       "      <th>page_text</th>\n",
       "      <th>page_text_cleaned</th>\n",
       "      <th>label</th>\n",
       "    </tr>\n",
       "  </thead>\n",
       "  <tbody>\n",
       "    <tr>\n",
       "      <th>0</th>\n",
       "      <td>كريستينا نوير</td>\n",
       "      <td>27</td>\n",
       "      <td>6</td>\n",
       "      <td>1685</td>\n",
       "      <td>460</td>\n",
       "      <td>65</td>\n",
       "      <td>كريستينا نوير christina noir يوليه ممثلة بورنو...</td>\n",
       "      <td>كريستينا نوير يوليه ممثلة بورنوجرافية امريكية ...</td>\n",
       "      <td>human-generated</td>\n",
       "    </tr>\n",
       "    <tr>\n",
       "      <th>1</th>\n",
       "      <td>ارنست هيفليجر</td>\n",
       "      <td>2</td>\n",
       "      <td>2</td>\n",
       "      <td>1060</td>\n",
       "      <td>381</td>\n",
       "      <td>67</td>\n",
       "      <td>ارنست هيفليجر كان معلم موسيقى مغنى اوبرا مغنى ...</td>\n",
       "      <td>ارنست هيفليجر كان معلم موسيقى مغنى اوبرا مغنى ...</td>\n",
       "      <td>template-translated</td>\n",
       "    </tr>\n",
       "    <tr>\n",
       "      <th>2</th>\n",
       "      <td>ناديه مصطفى</td>\n",
       "      <td>19</td>\n",
       "      <td>8</td>\n",
       "      <td>1841</td>\n",
       "      <td>637</td>\n",
       "      <td>113</td>\n",
       "      <td>نادية مصطفى اكتوبر مغنية مصرية بدأت مشوارها ال...</td>\n",
       "      <td>نادية مصطفى اكتوبر مغنية مصرية بدأت مشوارها ال...</td>\n",
       "      <td>human-generated</td>\n",
       "    </tr>\n",
       "    <tr>\n",
       "      <th>3</th>\n",
       "      <td>جامعات عمان</td>\n",
       "      <td>10</td>\n",
       "      <td>6</td>\n",
       "      <td>1810</td>\n",
       "      <td>767</td>\n",
       "      <td>113</td>\n",
       "      <td>الجامعات ومؤسسات التعليم العالي فى سلطنه عمان ...</td>\n",
       "      <td>الجامعات ومؤسسات التعليم العالي فى سلطنه عمان ...</td>\n",
       "      <td>human-generated</td>\n",
       "    </tr>\n",
       "    <tr>\n",
       "      <th>4</th>\n",
       "      <td>الحرب السكندريه</td>\n",
       "      <td>51</td>\n",
       "      <td>16</td>\n",
       "      <td>12077</td>\n",
       "      <td>6192</td>\n",
       "      <td>1083</td>\n",
       "      <td>يوليوس قيصر خاض حرب اسكندريه الحرب السكندريه ح...</td>\n",
       "      <td>يوليوس قيصر خاض حرب اسكندريه الحرب السكندريه ح...</td>\n",
       "      <td>human-generated</td>\n",
       "    </tr>\n",
       "    <tr>\n",
       "      <th>...</th>\n",
       "      <td>...</td>\n",
       "      <td>...</td>\n",
       "      <td>...</td>\n",
       "      <td>...</td>\n",
       "      <td>...</td>\n",
       "      <td>...</td>\n",
       "      <td>...</td>\n",
       "      <td>...</td>\n",
       "      <td>...</td>\n",
       "    </tr>\n",
       "    <tr>\n",
       "      <th>19995</th>\n",
       "      <td>عبد الخالق صالح</td>\n",
       "      <td>12</td>\n",
       "      <td>5</td>\n",
       "      <td>1070</td>\n",
       "      <td>467</td>\n",
       "      <td>81</td>\n",
       "      <td>عبدالخالق صالح abdelkhalek saleh ممثل مصرى من ...</td>\n",
       "      <td>عبدالخالق صالح ممثل مصرى من مواليد تخرج فى كلي...</td>\n",
       "      <td>human-generated</td>\n",
       "    </tr>\n",
       "    <tr>\n",
       "      <th>19996</th>\n",
       "      <td>چيم رونى</td>\n",
       "      <td>4</td>\n",
       "      <td>2</td>\n",
       "      <td>916</td>\n",
       "      <td>301</td>\n",
       "      <td>53</td>\n",
       "      <td>چيم رونى لاعب كورة قدم من المملكه المتحده حيات...</td>\n",
       "      <td>چيم رونى لاعب كورة قدم من المملكه المتحده حيات...</td>\n",
       "      <td>template-translated</td>\n",
       "    </tr>\n",
       "    <tr>\n",
       "      <th>19997</th>\n",
       "      <td>البطوله الوطنيه الاولى 1963</td>\n",
       "      <td>2</td>\n",
       "      <td>2</td>\n",
       "      <td>872</td>\n",
       "      <td>315</td>\n",
       "      <td>51</td>\n",
       "      <td>البطوله الوطنيه الاولى országos bajnokság هوا ...</td>\n",
       "      <td>البطوله الوطنيه الاولى هوا موسم رياضى فى كورة ...</td>\n",
       "      <td>template-translated</td>\n",
       "    </tr>\n",
       "    <tr>\n",
       "      <th>19998</th>\n",
       "      <td>دايان لين</td>\n",
       "      <td>13</td>\n",
       "      <td>7</td>\n",
       "      <td>1157</td>\n",
       "      <td>350</td>\n",
       "      <td>59</td>\n",
       "      <td>دايان لين بسنة دايان لين هيا ممثله امريكيه اتو...</td>\n",
       "      <td>دايان لين بسنة دايان لين هيا ممثله امريكيه اتو...</td>\n",
       "      <td>human-generated</td>\n",
       "    </tr>\n",
       "    <tr>\n",
       "      <th>19999</th>\n",
       "      <td>محافظة حلوان</td>\n",
       "      <td>94</td>\n",
       "      <td>40</td>\n",
       "      <td>3245</td>\n",
       "      <td>1393</td>\n",
       "      <td>247</td>\n",
       "      <td>px محافظة حلوان منطقه تابعه لمحافظة القاهره فى...</td>\n",
       "      <td>محافظة حلوان منطقه تابعه لمحافظة القاهره فى م...</td>\n",
       "      <td>human-generated</td>\n",
       "    </tr>\n",
       "  </tbody>\n",
       "</table>\n",
       "<p>20000 rows × 9 columns</p>\n",
       "</div>"
      ],
      "text/plain": [
       "                        page_title  total_edits  total_editors  total_bytes  \\\n",
       "0                    كريستينا نوير           27              6         1685   \n",
       "1                    ارنست هيفليجر            2              2         1060   \n",
       "2                      ناديه مصطفى           19              8         1841   \n",
       "3                      جامعات عمان           10              6         1810   \n",
       "4                  الحرب السكندريه           51             16        12077   \n",
       "...                            ...          ...            ...          ...   \n",
       "19995              عبد الخالق صالح           12              5         1070   \n",
       "19996                     چيم رونى            4              2          916   \n",
       "19997  البطوله الوطنيه الاولى 1963            2              2          872   \n",
       "19998                    دايان لين           13              7         1157   \n",
       "19999                 محافظة حلوان           94             40         3245   \n",
       "\n",
       "       total_chars  total_words  \\\n",
       "0              460           65   \n",
       "1              381           67   \n",
       "2              637          113   \n",
       "3              767          113   \n",
       "4             6192         1083   \n",
       "...            ...          ...   \n",
       "19995          467           81   \n",
       "19996          301           53   \n",
       "19997          315           51   \n",
       "19998          350           59   \n",
       "19999         1393          247   \n",
       "\n",
       "                                               page_text  \\\n",
       "0      كريستينا نوير christina noir يوليه ممثلة بورنو...   \n",
       "1      ارنست هيفليجر كان معلم موسيقى مغنى اوبرا مغنى ...   \n",
       "2      نادية مصطفى اكتوبر مغنية مصرية بدأت مشوارها ال...   \n",
       "3      الجامعات ومؤسسات التعليم العالي فى سلطنه عمان ...   \n",
       "4      يوليوس قيصر خاض حرب اسكندريه الحرب السكندريه ح...   \n",
       "...                                                  ...   \n",
       "19995  عبدالخالق صالح abdelkhalek saleh ممثل مصرى من ...   \n",
       "19996  چيم رونى لاعب كورة قدم من المملكه المتحده حيات...   \n",
       "19997  البطوله الوطنيه الاولى országos bajnokság هوا ...   \n",
       "19998  دايان لين بسنة دايان لين هيا ممثله امريكيه اتو...   \n",
       "19999  px محافظة حلوان منطقه تابعه لمحافظة القاهره فى...   \n",
       "\n",
       "                                       page_text_cleaned                label  \n",
       "0      كريستينا نوير يوليه ممثلة بورنوجرافية امريكية ...      human-generated  \n",
       "1      ارنست هيفليجر كان معلم موسيقى مغنى اوبرا مغنى ...  template-translated  \n",
       "2      نادية مصطفى اكتوبر مغنية مصرية بدأت مشوارها ال...      human-generated  \n",
       "3      الجامعات ومؤسسات التعليم العالي فى سلطنه عمان ...      human-generated  \n",
       "4      يوليوس قيصر خاض حرب اسكندريه الحرب السكندريه ح...      human-generated  \n",
       "...                                                  ...                  ...  \n",
       "19995  عبدالخالق صالح ممثل مصرى من مواليد تخرج فى كلي...      human-generated  \n",
       "19996  چيم رونى لاعب كورة قدم من المملكه المتحده حيات...  template-translated  \n",
       "19997  البطوله الوطنيه الاولى هوا موسم رياضى فى كورة ...  template-translated  \n",
       "19998  دايان لين بسنة دايان لين هيا ممثله امريكيه اتو...      human-generated  \n",
       "19999   محافظة حلوان منطقه تابعه لمحافظة القاهره فى م...      human-generated  \n",
       "\n",
       "[20000 rows x 9 columns]"
      ]
     },
     "execution_count": 1,
     "metadata": {},
     "output_type": "execute_result"
    }
   ],
   "source": [
    "import warnings\n",
    "import pandas as pd\n",
    "warnings.filterwarnings(\"ignore\")\n",
    "\n",
    "df = pd.read_csv(\"../../Experimental-Setups/arzwiki-20240101-all-20k.csv\")\n",
    "df"
   ]
  },
  {
   "cell_type": "markdown",
   "id": "3bee9956-ecc0-45e2-a914-c1d3c244815d",
   "metadata": {},
   "source": [
    "#### Input Features:"
   ]
  },
  {
   "cell_type": "code",
   "execution_count": 2,
   "id": "31fedd07-62d9-4f1b-a0cb-f5ec302beb2b",
   "metadata": {},
   "outputs": [
    {
     "data": {
      "text/html": [
       "<div>\n",
       "<style scoped>\n",
       "    .dataframe tbody tr th:only-of-type {\n",
       "        vertical-align: middle;\n",
       "    }\n",
       "\n",
       "    .dataframe tbody tr th {\n",
       "        vertical-align: top;\n",
       "    }\n",
       "\n",
       "    .dataframe thead th {\n",
       "        text-align: right;\n",
       "    }\n",
       "</style>\n",
       "<table border=\"1\" class=\"dataframe\">\n",
       "  <thead>\n",
       "    <tr style=\"text-align: right;\">\n",
       "      <th></th>\n",
       "      <th>page_title</th>\n",
       "      <th>total_edits</th>\n",
       "      <th>total_editors</th>\n",
       "      <th>total_bytes</th>\n",
       "      <th>total_chars</th>\n",
       "      <th>total_words</th>\n",
       "      <th>page_text</th>\n",
       "      <th>page_text_cleaned</th>\n",
       "      <th>label</th>\n",
       "      <th>sparknlp_page_text_embeddings</th>\n",
       "      <th>camelbert_page_text_embeddings</th>\n",
       "    </tr>\n",
       "  </thead>\n",
       "  <tbody>\n",
       "    <tr>\n",
       "      <th>0</th>\n",
       "      <td>كريستينا نوير</td>\n",
       "      <td>27</td>\n",
       "      <td>6</td>\n",
       "      <td>1685</td>\n",
       "      <td>460</td>\n",
       "      <td>65</td>\n",
       "      <td>كريستينا نوير christina noir يوليه ممثلة بورنو...</td>\n",
       "      <td>كريستينا نوير يوليه ممثلة بورنوجرافية امريكية ...</td>\n",
       "      <td>0</td>\n",
       "      <td>[-0.01276949152542373, 0.00048644067796609894,...</td>\n",
       "      <td>[0.9345402717590332, -0.23156806826591492, 1.0...</td>\n",
       "    </tr>\n",
       "    <tr>\n",
       "      <th>1</th>\n",
       "      <td>ارنست هيفليجر</td>\n",
       "      <td>2</td>\n",
       "      <td>2</td>\n",
       "      <td>1060</td>\n",
       "      <td>381</td>\n",
       "      <td>67</td>\n",
       "      <td>ارنست هيفليجر كان معلم موسيقى مغنى اوبرا مغنى ...</td>\n",
       "      <td>ارنست هيفليجر كان معلم موسيقى مغنى اوبرا مغنى ...</td>\n",
       "      <td>1</td>\n",
       "      <td>[-0.0033208955223880602, -0.04084029850746269,...</td>\n",
       "      <td>[1.1935014724731445, -0.4615197479724884, 0.74...</td>\n",
       "    </tr>\n",
       "    <tr>\n",
       "      <th>2</th>\n",
       "      <td>ناديه مصطفى</td>\n",
       "      <td>19</td>\n",
       "      <td>8</td>\n",
       "      <td>1841</td>\n",
       "      <td>637</td>\n",
       "      <td>113</td>\n",
       "      <td>نادية مصطفى اكتوبر مغنية مصرية بدأت مشوارها ال...</td>\n",
       "      <td>نادية مصطفى اكتوبر مغنية مصرية بدأت مشوارها ال...</td>\n",
       "      <td>0</td>\n",
       "      <td>[0.004411607142857147, -0.025443750000000008, ...</td>\n",
       "      <td>[1.0213305950164795, -0.9650395512580872, 0.87...</td>\n",
       "    </tr>\n",
       "    <tr>\n",
       "      <th>3</th>\n",
       "      <td>جامعات عمان</td>\n",
       "      <td>10</td>\n",
       "      <td>6</td>\n",
       "      <td>1810</td>\n",
       "      <td>767</td>\n",
       "      <td>113</td>\n",
       "      <td>الجامعات ومؤسسات التعليم العالي فى سلطنه عمان ...</td>\n",
       "      <td>الجامعات ومؤسسات التعليم العالي فى سلطنه عمان ...</td>\n",
       "      <td>0</td>\n",
       "      <td>[0.0031707964601769916, -0.0018451327433628292...</td>\n",
       "      <td>[0.8735443353652954, -1.340850591659546, 0.825...</td>\n",
       "    </tr>\n",
       "    <tr>\n",
       "      <th>4</th>\n",
       "      <td>الحرب السكندريه</td>\n",
       "      <td>51</td>\n",
       "      <td>16</td>\n",
       "      <td>12077</td>\n",
       "      <td>6192</td>\n",
       "      <td>1083</td>\n",
       "      <td>يوليوس قيصر خاض حرب اسكندريه الحرب السكندريه ح...</td>\n",
       "      <td>يوليوس قيصر خاض حرب اسكندريه الحرب السكندريه ح...</td>\n",
       "      <td>0</td>\n",
       "      <td>[0.014313826679649486, -0.013468354430379716, ...</td>\n",
       "      <td>[1.1119786500930786, -0.9848897457122803, 0.63...</td>\n",
       "    </tr>\n",
       "    <tr>\n",
       "      <th>...</th>\n",
       "      <td>...</td>\n",
       "      <td>...</td>\n",
       "      <td>...</td>\n",
       "      <td>...</td>\n",
       "      <td>...</td>\n",
       "      <td>...</td>\n",
       "      <td>...</td>\n",
       "      <td>...</td>\n",
       "      <td>...</td>\n",
       "      <td>...</td>\n",
       "      <td>...</td>\n",
       "    </tr>\n",
       "    <tr>\n",
       "      <th>19995</th>\n",
       "      <td>عبد الخالق صالح</td>\n",
       "      <td>12</td>\n",
       "      <td>5</td>\n",
       "      <td>1070</td>\n",
       "      <td>467</td>\n",
       "      <td>81</td>\n",
       "      <td>عبدالخالق صالح abdelkhalek saleh ممثل مصرى من ...</td>\n",
       "      <td>عبدالخالق صالح ممثل مصرى من مواليد تخرج فى كلي...</td>\n",
       "      <td>0</td>\n",
       "      <td>[0.0005721518987341762, -0.0007936708860759519...</td>\n",
       "      <td>[0.8878637552261353, -0.8799211382865906, 0.71...</td>\n",
       "    </tr>\n",
       "    <tr>\n",
       "      <th>19996</th>\n",
       "      <td>چيم رونى</td>\n",
       "      <td>4</td>\n",
       "      <td>2</td>\n",
       "      <td>916</td>\n",
       "      <td>301</td>\n",
       "      <td>53</td>\n",
       "      <td>چيم رونى لاعب كورة قدم من المملكه المتحده حيات...</td>\n",
       "      <td>چيم رونى لاعب كورة قدم من المملكه المتحده حيات...</td>\n",
       "      <td>1</td>\n",
       "      <td>[-0.02443921568627451, -0.016590196078431377, ...</td>\n",
       "      <td>[0.9044078588485718, -0.4501630961894989, 0.39...</td>\n",
       "    </tr>\n",
       "    <tr>\n",
       "      <th>19997</th>\n",
       "      <td>البطوله الوطنيه الاولى 1963</td>\n",
       "      <td>2</td>\n",
       "      <td>2</td>\n",
       "      <td>872</td>\n",
       "      <td>315</td>\n",
       "      <td>51</td>\n",
       "      <td>البطوله الوطنيه الاولى országos bajnokság هوا ...</td>\n",
       "      <td>البطوله الوطنيه الاولى هوا موسم رياضى فى كورة ...</td>\n",
       "      <td>1</td>\n",
       "      <td>[-0.01403829787234042, -0.03250425531914894, 0...</td>\n",
       "      <td>[1.0202338695526123, -0.8164071440696716, 0.46...</td>\n",
       "    </tr>\n",
       "    <tr>\n",
       "      <th>19998</th>\n",
       "      <td>دايان لين</td>\n",
       "      <td>13</td>\n",
       "      <td>7</td>\n",
       "      <td>1157</td>\n",
       "      <td>350</td>\n",
       "      <td>59</td>\n",
       "      <td>دايان لين بسنة دايان لين هيا ممثله امريكيه اتو...</td>\n",
       "      <td>دايان لين بسنة دايان لين هيا ممثله امريكيه اتو...</td>\n",
       "      <td>0</td>\n",
       "      <td>[-0.026108620689655172, -0.008184482758620692,...</td>\n",
       "      <td>[0.8501976728439331, -0.6579734086990356, 0.60...</td>\n",
       "    </tr>\n",
       "    <tr>\n",
       "      <th>19999</th>\n",
       "      <td>محافظة حلوان</td>\n",
       "      <td>94</td>\n",
       "      <td>40</td>\n",
       "      <td>3245</td>\n",
       "      <td>1393</td>\n",
       "      <td>247</td>\n",
       "      <td>px محافظة حلوان منطقه تابعه لمحافظة القاهره فى...</td>\n",
       "      <td>محافظة حلوان منطقه تابعه لمحافظة القاهره فى م...</td>\n",
       "      <td>0</td>\n",
       "      <td>[0.002612195121951219, -0.013719512195121948, ...</td>\n",
       "      <td>[1.2322980165481567, -1.2269660234451294, 0.76...</td>\n",
       "    </tr>\n",
       "  </tbody>\n",
       "</table>\n",
       "<p>20000 rows × 11 columns</p>\n",
       "</div>"
      ],
      "text/plain": [
       "                        page_title  total_edits  total_editors  total_bytes  \\\n",
       "0                    كريستينا نوير           27              6         1685   \n",
       "1                    ارنست هيفليجر            2              2         1060   \n",
       "2                      ناديه مصطفى           19              8         1841   \n",
       "3                      جامعات عمان           10              6         1810   \n",
       "4                  الحرب السكندريه           51             16        12077   \n",
       "...                            ...          ...            ...          ...   \n",
       "19995              عبد الخالق صالح           12              5         1070   \n",
       "19996                     چيم رونى            4              2          916   \n",
       "19997  البطوله الوطنيه الاولى 1963            2              2          872   \n",
       "19998                    دايان لين           13              7         1157   \n",
       "19999                 محافظة حلوان           94             40         3245   \n",
       "\n",
       "       total_chars  total_words  \\\n",
       "0              460           65   \n",
       "1              381           67   \n",
       "2              637          113   \n",
       "3              767          113   \n",
       "4             6192         1083   \n",
       "...            ...          ...   \n",
       "19995          467           81   \n",
       "19996          301           53   \n",
       "19997          315           51   \n",
       "19998          350           59   \n",
       "19999         1393          247   \n",
       "\n",
       "                                               page_text  \\\n",
       "0      كريستينا نوير christina noir يوليه ممثلة بورنو...   \n",
       "1      ارنست هيفليجر كان معلم موسيقى مغنى اوبرا مغنى ...   \n",
       "2      نادية مصطفى اكتوبر مغنية مصرية بدأت مشوارها ال...   \n",
       "3      الجامعات ومؤسسات التعليم العالي فى سلطنه عمان ...   \n",
       "4      يوليوس قيصر خاض حرب اسكندريه الحرب السكندريه ح...   \n",
       "...                                                  ...   \n",
       "19995  عبدالخالق صالح abdelkhalek saleh ممثل مصرى من ...   \n",
       "19996  چيم رونى لاعب كورة قدم من المملكه المتحده حيات...   \n",
       "19997  البطوله الوطنيه الاولى országos bajnokság هوا ...   \n",
       "19998  دايان لين بسنة دايان لين هيا ممثله امريكيه اتو...   \n",
       "19999  px محافظة حلوان منطقه تابعه لمحافظة القاهره فى...   \n",
       "\n",
       "                                       page_text_cleaned  label  \\\n",
       "0      كريستينا نوير يوليه ممثلة بورنوجرافية امريكية ...      0   \n",
       "1      ارنست هيفليجر كان معلم موسيقى مغنى اوبرا مغنى ...      1   \n",
       "2      نادية مصطفى اكتوبر مغنية مصرية بدأت مشوارها ال...      0   \n",
       "3      الجامعات ومؤسسات التعليم العالي فى سلطنه عمان ...      0   \n",
       "4      يوليوس قيصر خاض حرب اسكندريه الحرب السكندريه ح...      0   \n",
       "...                                                  ...    ...   \n",
       "19995  عبدالخالق صالح ممثل مصرى من مواليد تخرج فى كلي...      0   \n",
       "19996  چيم رونى لاعب كورة قدم من المملكه المتحده حيات...      1   \n",
       "19997  البطوله الوطنيه الاولى هوا موسم رياضى فى كورة ...      1   \n",
       "19998  دايان لين بسنة دايان لين هيا ممثله امريكيه اتو...      0   \n",
       "19999   محافظة حلوان منطقه تابعه لمحافظة القاهره فى م...      0   \n",
       "\n",
       "                           sparknlp_page_text_embeddings  \\\n",
       "0      [-0.01276949152542373, 0.00048644067796609894,...   \n",
       "1      [-0.0033208955223880602, -0.04084029850746269,...   \n",
       "2      [0.004411607142857147, -0.025443750000000008, ...   \n",
       "3      [0.0031707964601769916, -0.0018451327433628292...   \n",
       "4      [0.014313826679649486, -0.013468354430379716, ...   \n",
       "...                                                  ...   \n",
       "19995  [0.0005721518987341762, -0.0007936708860759519...   \n",
       "19996  [-0.02443921568627451, -0.016590196078431377, ...   \n",
       "19997  [-0.01403829787234042, -0.03250425531914894, 0...   \n",
       "19998  [-0.026108620689655172, -0.008184482758620692,...   \n",
       "19999  [0.002612195121951219, -0.013719512195121948, ...   \n",
       "\n",
       "                          camelbert_page_text_embeddings  \n",
       "0      [0.9345402717590332, -0.23156806826591492, 1.0...  \n",
       "1      [1.1935014724731445, -0.4615197479724884, 0.74...  \n",
       "2      [1.0213305950164795, -0.9650395512580872, 0.87...  \n",
       "3      [0.8735443353652954, -1.340850591659546, 0.825...  \n",
       "4      [1.1119786500930786, -0.9848897457122803, 0.63...  \n",
       "...                                                  ...  \n",
       "19995  [0.8878637552261353, -0.8799211382865906, 0.71...  \n",
       "19996  [0.9044078588485718, -0.4501630961894989, 0.39...  \n",
       "19997  [1.0202338695526123, -0.8164071440696716, 0.46...  \n",
       "19998  [0.8501976728439331, -0.6579734086990356, 0.60...  \n",
       "19999  [1.2322980165481567, -1.2269660234451294, 0.76...  \n",
       "\n",
       "[20000 rows x 11 columns]"
      ]
     },
     "execution_count": 2,
     "metadata": {},
     "output_type": "execute_result"
    }
   ],
   "source": [
    "import json\n",
    "import numpy as np\n",
    "import pandas as pd\n",
    "\n",
    "def fetch_embeddings(page_text, dataframe_name, embeddings_file):\n",
    "    idx = np.where(dataframe_name[\"page_text_cleaned\"] == page_text)[0][0]\n",
    "    page_title = dataframe_name['page_title'][idx]\n",
    "    return embeddings_file[page_title]\n",
    "    \n",
    "embeddings_files = [\"../../Experimental-Setups/arzwiki-20240101-all-20k-sparknlp-embeddings.json\", \n",
    "                   \"../../Experimental-Setups/arzwiki-20240101-all-20k-camelbert-embeddings.json\"]\n",
    "\n",
    "for file in embeddings_files:\n",
    "    with open(file) as json_file:\n",
    "        fetched_page_text_embeddings = json.load(json_file)\n",
    "        df[f'{file.split(\"/\")[-1].split(\"-\")[-2]}_page_text_embeddings'] = df['page_text_cleaned'].apply(lambda page_text: fetch_embeddings(page_text, df, fetched_page_text_embeddings))\n",
    "\n",
    "df['label'] = df['label'].map({'template-translated': 1, 'human-generated': 0})\n",
    "\n",
    "df"
   ]
  },
  {
   "cell_type": "markdown",
   "id": "08309ec0-b816-4783-82e6-fee0280c0d2a",
   "metadata": {},
   "source": [
    "#### Ablations:"
   ]
  },
  {
   "cell_type": "code",
   "execution_count": 3,
   "id": "a37cf7a7-023e-48f3-a0e3-4f1633c3ea70",
   "metadata": {},
   "outputs": [],
   "source": [
    "import pandas as pd\n",
    "\n",
    "def prepare_meta_features(df, features):\n",
    "    if features == \"metadata1\":\n",
    "        X = []\n",
    "        for i in range(df.shape[0]):\n",
    "            x = []\n",
    "            x.append(df['total_edits'][i])    # 1\n",
    "            X.append(x) \n",
    "        y = df['label'].to_list()\n",
    "        return X, y\n",
    "\n",
    "    elif features == \"metadata2\":\n",
    "        X = []\n",
    "        for i in range(df.shape[0]):\n",
    "            x = []\n",
    "            x.append(df['total_editors'][i])  # 2\n",
    "            X.append(x) \n",
    "        y = df['label'].to_list()\n",
    "        return X, y\n",
    "\n",
    "    elif features == \"metadata3\":\n",
    "        X = []\n",
    "        for i in range(df.shape[0]):\n",
    "            x = []\n",
    "            x.append(df['total_bytes'][i])    # 3\n",
    "            X.append(x) \n",
    "        y = df['label'].to_list()\n",
    "        return X, y\n",
    "\n",
    "    elif features == \"metadata4\":\n",
    "        X = []\n",
    "        for i in range(df.shape[0]):\n",
    "            x = []\n",
    "            x.append(df['total_chars'][i])    # 4\n",
    "            X.append(x) \n",
    "        y = df['label'].to_list()\n",
    "        return X, y\n",
    "\n",
    "    elif features == \"metadata5\":\n",
    "        X = []\n",
    "        for i in range(df.shape[0]):\n",
    "            x = []\n",
    "            x.append(df['total_words'][i])    # 5\n",
    "            X.append(x) \n",
    "        y = df['label'].to_list()\n",
    "        return X, y\n",
    "\n",
    "    elif features == \"metadata1+2\":\n",
    "        X = []\n",
    "        for i in range(df.shape[0]):\n",
    "            x = []\n",
    "            x.append(df['total_edits'][i])    # 1\n",
    "            x.append(df['total_editors'][i])  # 2\n",
    "            X.append(x) \n",
    "        y = df['label'].to_list()\n",
    "        return X, y\n",
    "\n",
    "    elif features == \"metadata3+4+5\":\n",
    "        X = []\n",
    "        for i in range(df.shape[0]):\n",
    "            x = []\n",
    "            x.append(df['total_bytes'][i])    # 3\n",
    "            x.append(df['total_chars'][i])    # 4\n",
    "            x.append(df['total_words'][i])    # 5\n",
    "            X.append(x) \n",
    "        y = df['label'].to_list()\n",
    "        return X, y\n",
    "\n",
    "    elif features == \"metadata_all\":\n",
    "        X = []\n",
    "        for i in range(df.shape[0]):\n",
    "            x = []\n",
    "            x.append(df['total_edits'][i])    # 1\n",
    "            x.append(df['total_editors'][i])  # 2\n",
    "            x.append(df['total_bytes'][i])    # 3\n",
    "            x.append(df['total_chars'][i])    # 4\n",
    "            x.append(df['total_words'][i])    # 5\n",
    "            X.append(x) \n",
    "        y = df['label'].to_list()\n",
    "        return X, y\n",
    "\n",
    "    else: \n",
    "        print(\"Error: Choose Features: Metadata 1 to 5, Metadata 1+2, Metadata 3+4+5, Metadata All\")\n",
    "        pass"
   ]
  },
  {
   "cell_type": "code",
   "execution_count": 4,
   "id": "4b66acf2-527a-4ff2-9e19-7f83b31cb06f",
   "metadata": {
    "editable": true,
    "slideshow": {
     "slide_type": ""
    },
    "tags": []
   },
   "outputs": [
    {
     "name": "stdout",
     "output_type": "stream",
     "text": [
      "##### FEATURE=METADATA1 #####\n",
      "\n",
      "Silhouette Coefficient Score*100: 86.85 (+/- 0.00) \n",
      "\n"
     ]
    },
    {
     "data": {
      "image/png": "[encoded data removed]",
      "text/plain": [
       "<Figure size 432x288 with 2 Axes>"
      ]
     },
     "metadata": {
      "needs_background": "light"
     },
     "output_type": "display_data"
    },
    {
     "name": "stdout",
     "output_type": "stream",
     "text": [
      "\n",
      "\n",
      "##### FEATURE=METADATA2 #####\n",
      "\n",
      "Silhouette Coefficient Score*100: 81.42 (+/- 0.00) \n",
      "\n"
     ]
    },
    {
     "data": {
      "image/png": "[encoded data removed]",
      "text/plain": [
       "<Figure size 432x288 with 2 Axes>"
      ]
     },
     "metadata": {
      "needs_background": "light"
     },
     "output_type": "display_data"
    },
    {
     "name": "stdout",
     "output_type": "stream",
     "text": [
      "\n",
      "\n",
      "##### FEATURE=METADATA3 #####\n",
      "\n",
      "Silhouette Coefficient Score*100: 97.10 (+/- 0.00) \n",
      "\n"
     ]
    },
    {
     "data": {
      "image/png": "[encoded data removed]",
      "text/plain": [
       "<Figure size 432x288 with 2 Axes>"
      ]
     },
     "metadata": {
      "needs_background": "light"
     },
     "output_type": "display_data"
    },
    {
     "name": "stdout",
     "output_type": "stream",
     "text": [
      "\n",
      "\n",
      "##### FEATURE=METADATA4 #####\n",
      "\n",
      "Silhouette Coefficient Score*100: 97.37 (+/- 0.00) \n",
      "\n"
     ]
    },
    {
     "data": {
      "image/png": "[encoded data removed]",
      "text/plain": [
       "<Figure size 432x288 with 2 Axes>"
      ]
     },
     "metadata": {
      "needs_background": "light"
     },
     "output_type": "display_data"
    },
    {
     "name": "stdout",
     "output_type": "stream",
     "text": [
      "\n",
      "\n",
      "##### FEATURE=METADATA5 #####\n",
      "\n",
      "Silhouette Coefficient Score*100: 97.32 (+/- 0.00) \n",
      "\n"
     ]
    },
    {
     "data": {
      "image/png": "[encoded data removed]",
      "text/plain": [
       "<Figure size 432x288 with 2 Axes>"
      ]
     },
     "metadata": {
      "needs_background": "light"
     },
     "output_type": "display_data"
    },
    {
     "name": "stdout",
     "output_type": "stream",
     "text": [
      "\n",
      "\n",
      "##### FEATURE=METADATA1+2 #####\n",
      "\n",
      "Silhouette Coefficient Score*100: 82.28 (+/- 0.00) \n",
      "\n"
     ]
    },
    {
     "data": {
      "image/png": "[encoded data removed]",
      "text/plain": [
       "<Figure size 432x288 with 2 Axes>"
      ]
     },
     "metadata": {
      "needs_background": "light"
     },
     "output_type": "display_data"
    },
    {
     "name": "stdout",
     "output_type": "stream",
     "text": [
      "\n",
      "\n",
      "##### FEATURE=METADATA3+4+5 #####\n",
      "\n",
      "Silhouette Coefficient Score*100: 96.08 (+/- 0.00) \n",
      "\n"
     ]
    },
    {
     "data": {
      "image/png": "[encoded data removed]",
      "text/plain": [
       "<Figure size 432x288 with 2 Axes>"
      ]
     },
     "metadata": {
      "needs_background": "light"
     },
     "output_type": "display_data"
    },
    {
     "name": "stdout",
     "output_type": "stream",
     "text": [
      "\n",
      "\n",
      "##### FEATURE=METADATA_ALL #####\n",
      "\n",
      "Silhouette Coefficient Score*100: 97.52 (+/- 0.00) \n",
      "\n"
     ]
    },
    {
     "data": {
      "image/png": "[encoded data removed]",
      "text/plain": [
       "<Figure size 432x288 with 2 Axes>"
      ]
     },
     "metadata": {
      "needs_background": "light"
     },
     "output_type": "display_data"
    },
    {
     "name": "stdout",
     "output_type": "stream",
     "text": [
      "\n",
      "\n"
     ]
    }
   ],
   "source": [
    "import seaborn as sns\n",
    "from sklearn import metrics\n",
    "import matplotlib.pyplot as plt\n",
    "from sklearn.metrics import confusion_matrix\n",
    "from sklearn.cluster import AgglomerativeClustering\n",
    "\n",
    "features = [\"metadata1\", \"metadata2\", \"metadata3\", \"metadata4\", \"metadata5\", \"metadata1+2\", \"metadata3+4+5\", \"metadata_all\"]\n",
    "\n",
    "for feature in features:\n",
    "\n",
    "    print(f\"##### FEATURE={feature.upper()} #####\\n\")\n",
    "    X, y = prepare_meta_features(df, features=feature)\n",
    "    \n",
    "    hierarchical_classifier = AgglomerativeClustering(n_clusters=2)\n",
    "    hierarchical_classifier.fit(X)\n",
    "    agg_labels = hierarchical_classifier.labels_\n",
    "\n",
    "    silhouette_score = metrics.silhouette_score(X, agg_labels, metric='euclidean')*100\n",
    "    print(\"Silhouette Coefficient Score*100: %0.2f (+/- %0.2f)\" % (silhouette_score, silhouette_score.std() * 2), \"\\n\")\n",
    "\n",
    "    agg_labels_matched = np.empty_like(agg_labels)\n",
    "    \n",
    "    for k in np.unique(agg_labels):\n",
    "        match_nums = [np.sum((agg_labels==k)*(y==t)) for t in np.unique(y)]\n",
    "        agg_labels_matched[agg_labels==k] = np.unique(y)[np.argmax(match_nums)]\n",
    "\n",
    "    cm = confusion_matrix(y, agg_labels_matched)\n",
    "    sns.heatmap(cm, annot=True, cmap='Blues')\n",
    "    plt.title(f'Confusion Matrix of Agglomerative\\nf={feature}')\n",
    "    plt.xlabel(\"Predicted Label\")\n",
    "    plt.ylabel(\"Truth Label\")\n",
    "    plt.savefig(f\"plots/agg_cm_{feature}.png\", bbox_inches='tight', dpi=100, facecolor='white', transparent=False)\n",
    "    plt.show()\n",
    "\n",
    "    print(\"\\n\")"
   ]
  },
  {
   "cell_type": "markdown",
   "id": "66b25326-713e-4cef-a7b0-7a9c54302db2",
   "metadata": {},
   "source": [
    "#### Results:"
   ]
  },
  {
   "cell_type": "code",
   "execution_count": 5,
   "id": "17e540ad-2a48-463f-8a05-d84cdb3a21ee",
   "metadata": {},
   "outputs": [],
   "source": [
    "import numpy as np\n",
    "import pandas as pd\n",
    "\n",
    "def prepare_features(df, features, model=None):\n",
    "    if features == \"metadata\":\n",
    "        X = []\n",
    "        for i in range(df.shape[0]):\n",
    "            x = []\n",
    "            x.append(df['total_edits'][i])\n",
    "            x.append(df['total_editors'][i])\n",
    "            x.append(df['total_bytes'][i])\n",
    "            x.append(df['total_chars'][i])\n",
    "            x.append(df['total_words'][i])\n",
    "            X.append(x) # Only page_metadata\n",
    "        y = df['label'].to_list()\n",
    "        return X, y\n",
    "\n",
    "    elif features == \"embeddings\":\n",
    "        if model == \"sparknlp\":\n",
    "            X = []\n",
    "            for i in range(df.shape[0]):\n",
    "                x = []\n",
    "                X.append(df['sparknlp_page_text_embeddings'].to_list()[i]) # Only page_text_embeddings\n",
    "            y = df['label'].to_list()\n",
    "            return X, y\n",
    "        \n",
    "        elif model == \"camelbert\":\n",
    "            X = []\n",
    "            for i in range(df.shape[0]):\n",
    "                x = []\n",
    "                X.append(df['camelbert_page_text_embeddings'].to_list()[i]) # Only page_text_embeddings\n",
    "            y = df['label'].to_list()\n",
    "            return X, y\n",
    "        \n",
    "        else: \n",
    "            print(\"Error: Choose An Embedding Model: SparkNLP or CAMeLBERT\")\n",
    "            pass\n",
    "            \n",
    "    elif features == \"metadata+embeddings\":\n",
    "        if model == \"sparknlp\":\n",
    "            X = []\n",
    "            for i in range(df.shape[0]):\n",
    "                x = []\n",
    "                x.append(df['total_edits'][i])\n",
    "                x.append(df['total_editors'][i])\n",
    "                x.append(df['total_bytes'][i])\n",
    "                x.append(df['total_chars'][i])\n",
    "                x.append(df['total_words'][i])\n",
    "                X.append(np.hstack([x, df['sparknlp_page_text_embeddings'].to_list()[i]])) # Both page_metadata + page_text_embeddings\n",
    "            y = df['label'].to_list()\n",
    "            return X, y\n",
    "        \n",
    "        elif model == \"camelbert\":\n",
    "            X = []\n",
    "            for i in range(df.shape[0]):\n",
    "                x = []\n",
    "                x.append(df['total_edits'][i])\n",
    "                x.append(df['total_editors'][i])\n",
    "                x.append(df['total_bytes'][i])\n",
    "                x.append(df['total_chars'][i])\n",
    "                x.append(df['total_words'][i])\n",
    "                X.append(np.hstack([x, df['camelbert_page_text_embeddings'].to_list()[i]])) # Both page_metadata + page_text_embeddings\n",
    "            y = df['label'].to_list()\n",
    "            return X, y\n",
    "  \n",
    "    else: \n",
    "        print(\"Error: Choose Features: Metadata, Embeddings, or Metadata+Embeddings\")\n",
    "        pass"
   ]
  },
  {
   "cell_type": "code",
   "execution_count": 6,
   "id": "cced688c-7d13-4df0-b698-d3046354bc59",
   "metadata": {
    "editable": true,
    "slideshow": {
     "slide_type": ""
    },
    "tags": []
   },
   "outputs": [
    {
     "name": "stdout",
     "output_type": "stream",
     "text": [
      "##### FEATURE=METADATA, MODEL=NONE #####\n",
      "\n",
      "Silhouette Coefficient Score*100: 97.52 (+/- 0.00) \n",
      "\n"
     ]
    },
    {
     "data": {
      "image/png": "[encoded data removed]",
      "text/plain": [
       "<Figure size 432x288 with 2 Axes>"
      ]
     },
     "metadata": {
      "needs_background": "light"
     },
     "output_type": "display_data"
    },
    {
     "name": "stdout",
     "output_type": "stream",
     "text": [
      "\n",
      "\n",
      "##### FEATURE=EMBEDDINGS, MODEL=SPARKNLP #####\n",
      "\n",
      "Silhouette Coefficient Score*100: 11.79 (+/- 0.00) \n",
      "\n"
     ]
    },
    {
     "data": {
      "image/png": "[encoded data removed]",
      "text/plain": [
       "<Figure size 432x288 with 2 Axes>"
      ]
     },
     "metadata": {
      "needs_background": "light"
     },
     "output_type": "display_data"
    },
    {
     "name": "stdout",
     "output_type": "stream",
     "text": [
      "\n",
      "\n",
      "##### FEATURE=EMBEDDINGS, MODEL=CAMELBERT #####\n",
      "\n",
      "Silhouette Coefficient Score*100: 10.82 (+/- 0.00) \n",
      "\n"
     ]
    },
    {
     "data": {
      "image/png": "[encoded data removed]",
      "text/plain": [
       "<Figure size 432x288 with 2 Axes>"
      ]
     },
     "metadata": {
      "needs_background": "light"
     },
     "output_type": "display_data"
    },
    {
     "name": "stdout",
     "output_type": "stream",
     "text": [
      "\n",
      "\n",
      "##### FEATURE=METADATA+EMBEDDINGS, MODEL=SPARKNLP #####\n",
      "\n",
      "Silhouette Coefficient Score*100: 96.77 (+/- 0.00) \n",
      "\n"
     ]
    },
    {
     "data": {
      "image/png": "[encoded data removed]",
      "text/plain": [
       "<Figure size 432x288 with 2 Axes>"
      ]
     },
     "metadata": {
      "needs_background": "light"
     },
     "output_type": "display_data"
    },
    {
     "name": "stdout",
     "output_type": "stream",
     "text": [
      "\n",
      "\n",
      "##### FEATURE=METADATA+EMBEDDINGS, MODEL=CAMELBERT #####\n",
      "\n",
      "Silhouette Coefficient Score*100: 96.77 (+/- 0.00) \n",
      "\n"
     ]
    },
    {
     "data": {
      "image/png": "[encoded data removed]",
      "text/plain": [
       "<Figure size 432x288 with 2 Axes>"
      ]
     },
     "metadata": {
      "needs_background": "light"
     },
     "output_type": "display_data"
    },
    {
     "name": "stdout",
     "output_type": "stream",
     "text": [
      "\n",
      "\n"
     ]
    }
   ],
   "source": [
    "import seaborn as sns\n",
    "from sklearn import metrics\n",
    "import matplotlib.pyplot as plt\n",
    "from sklearn.metrics import confusion_matrix\n",
    "from sklearn.cluster import AgglomerativeClustering\n",
    "\n",
    "feature, model = \"metadata\", \"none\"\n",
    "\n",
    "print(f\"##### FEATURE={feature.upper()}, MODEL={model.upper()} #####\\n\")\n",
    "\n",
    "X, y = prepare_features(df, features=feature, model=model)\n",
    "\n",
    "hierarchical_classifier = AgglomerativeClustering(n_clusters=2)\n",
    "hierarchical_classifier.fit(X)\n",
    "agg_labels = hierarchical_classifier.labels_\n",
    "\n",
    "silhouette_score = metrics.silhouette_score(X, agg_labels, metric='euclidean')*100\n",
    "print(\"Silhouette Coefficient Score*100: %0.2f (+/- %0.2f)\" % (silhouette_score, silhouette_score.std() * 2), \"\\n\")\n",
    "\n",
    "agg_labels_matched = np.empty_like(agg_labels)\n",
    "\n",
    "for k in np.unique(agg_labels):\n",
    "    match_nums = [np.sum((agg_labels==k)*(y==t)) for t in np.unique(y)]\n",
    "    agg_labels_matched[agg_labels==k] = np.unique(y)[np.argmax(match_nums)]\n",
    "\n",
    "cm = confusion_matrix(y, agg_labels_matched)\n",
    "sns.heatmap(cm, annot=True, cmap='Blues')\n",
    "plt.title(f'Confusion Matrix of Agglomerative\\nf={feature}, m={model}')\n",
    "plt.xlabel(\"Predicted Label\")\n",
    "plt.ylabel(\"Truth Label\")\n",
    "plt.savefig(f\"plots/agg_cm_{feature}_{model}.png\", bbox_inches='tight', dpi=100, facecolor='white', transparent=False)\n",
    "plt.show()\n",
    "\n",
    "print(\"\\n\")\n",
    "\n",
    "features = [\"embeddings\", \"metadata+embeddings\"]\n",
    "models = [\"sparknlp\", \"camelbert\"]\n",
    "\n",
    "for feature in features:\n",
    "\n",
    "    for model in models:\n",
    "\n",
    "        print(f\"##### FEATURE={feature.upper()}, MODEL={model.upper()} #####\\n\")\n",
    "        X, y = prepare_features(df, features=feature, model=model)\n",
    "        \n",
    "        hierarchical_classifier = AgglomerativeClustering(n_clusters=2)\n",
    "        \n",
    "        hierarchical_classifier.fit(X)\n",
    "        agg_labels = hierarchical_classifier.labels_\n",
    "    \n",
    "        silhouette_score = metrics.silhouette_score(X, agg_labels, metric='euclidean')*100\n",
    "        print(\"Silhouette Coefficient Score*100: %0.2f (+/- %0.2f)\" % (silhouette_score, silhouette_score.std() * 2), \"\\n\")\n",
    "    \n",
    "        agg_labels_matched = np.empty_like(agg_labels)\n",
    "        \n",
    "        for k in np.unique(agg_labels):\n",
    "            match_nums = [np.sum((agg_labels==k)*(y==t)) for t in np.unique(y)]\n",
    "            agg_labels_matched[agg_labels==k] = np.unique(y)[np.argmax(match_nums)]\n",
    "    \n",
    "        cm = confusion_matrix(y, agg_labels_matched)\n",
    "        sns.heatmap(cm, annot=True, cmap='Blues')\n",
    "        plt.title(f'Confusion Matrix of Agglomerative\\nf={feature}, m={model}')\n",
    "        plt.xlabel(\"Predicted Label\")\n",
    "        plt.ylabel(\"Truth Label\")\n",
    "        plt.savefig(f\"plots/agg_cm_{feature}_{model}.png\", bbox_inches='tight', dpi=100, facecolor='white', transparent=False)\n",
    "        plt.show()\n",
    "        \n",
    "        print(\"\\n\")"
   ]
  }
 ],
 "metadata": {
  "kernelspec": {
   "display_name": "Python 3.9 (mldl)",
   "language": "python",
   "name": "mldl"
  },
  "language_info": {
   "codemirror_mode": {
    "name": "ipython",
    "version": 3
   },
   "file_extension": ".py",
   "mimetype": "text/x-python",
   "name": "python",
   "nbconvert_exporter": "python",
   "pygments_lexer": "ipython3",
   "version": "3.9.13"
  }
 },
 "nbformat": 4,
 "nbformat_minor": 5
}
